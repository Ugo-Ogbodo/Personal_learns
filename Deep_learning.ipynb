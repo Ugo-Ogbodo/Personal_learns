{
  "nbformat": 4,
  "nbformat_minor": 0,
  "metadata": {
    "colab": {
      "name": "Deep_learning.ipynb",
      "provenance": [],
      "authorship_tag": "ABX9TyOF5tNoh1q20APJc8e6lMXN",
      "include_colab_link": true
    },
    "kernelspec": {
      "name": "python3",
      "display_name": "Python 3"
    },
    "language_info": {
      "name": "python"
    }
  },
  "cells": [
    {
      "cell_type": "markdown",
      "metadata": {
        "id": "view-in-github",
        "colab_type": "text"
      },
      "source": [
        "<a href=\"https://colab.research.google.com/github/Ugo-Ogbodo/Personal_learns/blob/main/Deep_learning.ipynb\" target=\"_parent\"><img src=\"https://colab.research.google.com/assets/colab-badge.svg\" alt=\"Open In Colab\"/></a>"
      ]
    },
    {
      "cell_type": "code",
      "execution_count": null,
      "metadata": {
        "colab": {
          "base_uri": "https://localhost:8080/"
        },
        "id": "RXnxZcYY3oI4",
        "outputId": "7c8b07f5-35ac-465a-a7bd-43c3ff294e8c"
      },
      "outputs": [
        {
          "output_type": "stream",
          "name": "stdout",
          "text": [
            "It's a lovely day\n",
            "Enjoy your day\n"
          ]
        }
      ],
      "source": [
        "is_hot = False\n",
        "is_cold = False\n",
        "\n",
        "if is_hot:\n",
        "  print(\"It's a hot day\")\n",
        "  print('Drink plenty of water')\n",
        "elif is_cold:\n",
        "  print(\"It's a cold day\")\n",
        "  print('Wear warm clothes')\n",
        "else:\n",
        "  print(\"It's a lovely day\")\n",
        "\n",
        "print('Enjoy your day')"
      ]
    },
    {
      "cell_type": "code",
      "source": [
        "price = 1000000\n",
        "good_credit = True\n",
        "\n",
        "if good_credit:\n",
        "  down_payment = price * 0.1\n",
        "else:\n",
        "  down_payment = price * 0.2\n",
        "print(f'the down payment is ${down_payment}')"
      ],
      "metadata": {
        "colab": {
          "base_uri": "https://localhost:8080/"
        },
        "id": "oZGLbCnL5-bX",
        "outputId": "8867c1ec-ca83-41be-c332-72e8bf929ace"
      },
      "execution_count": null,
      "outputs": [
        {
          "output_type": "stream",
          "name": "stdout",
          "text": [
            "the down payment is $100000.0\n"
          ]
        }
      ]
    },
    {
      "cell_type": "code",
      "source": [
        "alist = ['by', [4,5]]\n",
        "print(alist[0][1])\n",
        "print(alist[1][2])"
      ],
      "metadata": {
        "id": "oqGrXscHjHi6",
        "colab": {
          "base_uri": "https://localhost:8080/",
          "height": 225
        },
        "outputId": "b2dca26f-6898-4547-f7c3-942613f7b270"
      },
      "execution_count": null,
      "outputs": [
        {
          "output_type": "stream",
          "name": "stdout",
          "text": [
            "y\n"
          ]
        },
        {
          "output_type": "error",
          "ename": "IndexError",
          "evalue": "ignored",
          "traceback": [
            "\u001b[0;31m---------------------------------------------------------------------------\u001b[0m",
            "\u001b[0;31mIndexError\u001b[0m                                Traceback (most recent call last)",
            "\u001b[0;32m<ipython-input-5-9d15a9789a0e>\u001b[0m in \u001b[0;36m<module>\u001b[0;34m\u001b[0m\n\u001b[1;32m      1\u001b[0m \u001b[0malist\u001b[0m \u001b[0;34m=\u001b[0m \u001b[0;34m[\u001b[0m\u001b[0;34m'by'\u001b[0m\u001b[0;34m,\u001b[0m \u001b[0;34m[\u001b[0m\u001b[0;36m4\u001b[0m\u001b[0;34m,\u001b[0m\u001b[0;36m5\u001b[0m\u001b[0;34m]\u001b[0m\u001b[0;34m]\u001b[0m\u001b[0;34m\u001b[0m\u001b[0;34m\u001b[0m\u001b[0m\n\u001b[1;32m      2\u001b[0m \u001b[0mprint\u001b[0m\u001b[0;34m(\u001b[0m\u001b[0malist\u001b[0m\u001b[0;34m[\u001b[0m\u001b[0;36m0\u001b[0m\u001b[0;34m]\u001b[0m\u001b[0;34m[\u001b[0m\u001b[0;36m1\u001b[0m\u001b[0;34m]\u001b[0m\u001b[0;34m)\u001b[0m\u001b[0;34m\u001b[0m\u001b[0;34m\u001b[0m\u001b[0m\n\u001b[0;32m----> 3\u001b[0;31m \u001b[0mprint\u001b[0m\u001b[0;34m(\u001b[0m\u001b[0malist\u001b[0m\u001b[0;34m[\u001b[0m\u001b[0;36m1\u001b[0m\u001b[0;34m]\u001b[0m\u001b[0;34m[\u001b[0m\u001b[0;36m2\u001b[0m\u001b[0;34m]\u001b[0m\u001b[0;34m)\u001b[0m\u001b[0;34m\u001b[0m\u001b[0;34m\u001b[0m\u001b[0m\n\u001b[0m",
            "\u001b[0;31mIndexError\u001b[0m: list index out of range"
          ]
        }
      ]
    },
    {
      "cell_type": "code",
      "source": [
        "mkdir Intro_to_deep_learning_with_PyTorch "
      ],
      "metadata": {
        "id": "ZawMPgLXgP5z"
      },
      "execution_count": 1,
      "outputs": []
    },
    {
      "cell_type": "code",
      "source": [
        "cd Intro_to_deep_learning_with_PyTorch"
      ],
      "metadata": {
        "colab": {
          "base_uri": "https://localhost:8080/"
        },
        "id": "GggywHc39-rx",
        "outputId": "e05aa000-c828-48e6-90e3-e96789e1d6a8"
      },
      "execution_count": 2,
      "outputs": [
        {
          "output_type": "stream",
          "name": "stdout",
          "text": [
            "/content/Intro_to_deep_learning_with_PyTorch\n"
          ]
        }
      ]
    },
    {
      "cell_type": "code",
      "source": [
        "ls"
      ],
      "metadata": {
        "id": "oz2ChFgs-Lqn"
      },
      "execution_count": 3,
      "outputs": []
    },
    {
      "cell_type": "code",
      "source": [
        "!touch perceptron.py"
      ],
      "metadata": {
        "id": "lxtecfQe-M4E"
      },
      "execution_count": 5,
      "outputs": []
    },
    {
      "cell_type": "code",
      "source": [
        "!python perceptron.py"
      ],
      "metadata": {
        "id": "Ajy6lsOw-ZGA"
      },
      "execution_count": 6,
      "outputs": []
    },
    {
      "cell_type": "code",
      "source": [],
      "metadata": {
        "id": "iZTn_Yld-w-h"
      },
      "execution_count": null,
      "outputs": []
    }
  ]
}