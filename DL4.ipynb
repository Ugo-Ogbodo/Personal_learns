{
  "nbformat": 4,
  "nbformat_minor": 0,
  "metadata": {
    "colab": {
      "provenance": [],
      "authorship_tag": "ABX9TyOLmNln7PxhfKVyF1XK0uGf",
      "include_colab_link": true
    },
    "kernelspec": {
      "name": "python3",
      "display_name": "Python 3"
    },
    "language_info": {
      "name": "python"
    }
  },
  "cells": [
    {
      "cell_type": "markdown",
      "metadata": {
        "id": "view-in-github",
        "colab_type": "text"
      },
      "source": [
        "<a href=\"https://colab.research.google.com/github/Ugo-Ogbodo/Personal_learns/blob/main/DL4.ipynb\" target=\"_parent\"><img src=\"https://colab.research.google.com/assets/colab-badge.svg\" alt=\"Open In Colab\"/></a>"
      ]
    },
    {
      "cell_type": "code",
      "execution_count": null,
      "metadata": {
        "id": "F33x_m9MslGV"
      },
      "outputs": [],
      "source": [
        "import torch"
      ]
    },
    {
      "cell_type": "code",
      "source": [
        "def activation(x):\n",
        "  \"\"\" Sigmoid activation function\n",
        "      \n",
        "      Arguments\n",
        "      ---------\n",
        "      x: torch.Tensor\n",
        "  \"\"\"\n",
        "  return 1/(1+torch.exp(-x))"
      ],
      "metadata": {
        "id": "W56jdvYBsrgk"
      },
      "execution_count": null,
      "outputs": []
    },
    {
      "cell_type": "code",
      "source": [
        "torch.manual_seed(7)\n",
        "features = torch.randn((1, 5))\n",
        "weights = torch.randn_like(features)\n",
        "bias = torch.randn((1, 1))"
      ],
      "metadata": {
        "id": "waBjn-vtuU7k"
      },
      "execution_count": null,
      "outputs": []
    },
    {
      "cell_type": "code",
      "source": [
        "y= activation(torch.sum(features * weights) + bias)\n",
        "print(y)\n",
        "##OR\n",
        "#y = activation((features * weights).sum + bias)"
      ],
      "metadata": {
        "colab": {
          "base_uri": "https://localhost:8080/"
        },
        "id": "Dg9SwFIauV7f",
        "outputId": "1313a94b-5242-4986-be5b-3bb186b10189"
      },
      "execution_count": null,
      "outputs": [
        {
          "output_type": "stream",
          "name": "stdout",
          "text": [
            "tensor([[0.1595]])\n"
          ]
        }
      ]
    },
    {
      "cell_type": "markdown",
      "source": [
        "using matrix multiplication is better and faster\n",
        " ```torch.mm```<- this recomended for well shaped matrices or ```torch.matmul```\n",
        " to shape a tensor use \n",
        "\n",
        "```tensor.shape```\n",
        "\n",
        "to reshape use  ```weights.reshape(a, b)```, ```weights.resize_(a, b)``` and ```weights.view(a, b)```\n"
      ],
      "metadata": {
        "id": "kR3UqMfj7Jim"
      }
    },
    {
      "cell_type": "code",
      "source": [
        "y = activation(torch.mm(features, weights.view(5, 1)) + bias)\n",
        "print(y)"
      ],
      "metadata": {
        "colab": {
          "base_uri": "https://localhost:8080/"
        },
        "id": "NLysyokauWtT",
        "outputId": "fefc25f3-8c48-4d3a-b1c0-19c1bc5fb2ad"
      },
      "execution_count": null,
      "outputs": [
        {
          "output_type": "stream",
          "name": "stdout",
          "text": [
            "tensor([[0.1595]])\n"
          ]
        }
      ]
    },
    {
      "cell_type": "markdown",
      "source": [
        "**stacking up**\n",
        "\n",
        "this is basically creating a hidden layer (nueral networks) for a better working model"
      ],
      "metadata": {
        "id": "364U1Zl1Flnn"
      }
    },
    {
      "cell_type": "code",
      "source": [
        "torch.manual_seed(7)\n",
        "features = torch.randn((1, 3))\n",
        "n_input = features.shape[1]\n",
        "n_hidden = 2\n",
        "n_output = 1\n",
        "\n",
        "w1 = torch.randn(n_input, n_hidden)\n",
        "w2 = torch.randn(n_hidden, n_output)\n",
        "\n",
        "b1 = torch.randn((1, n_hidden))\n",
        "b2 = torch.randn((1, n_output))"
      ],
      "metadata": {
        "id": "mij0g4SQBRNt"
      },
      "execution_count": null,
      "outputs": []
    },
    {
      "cell_type": "code",
      "source": [
        "h = activation(torch.mm(features, w1) + b1)\n",
        "output = activation(torch.mm(h, w2) + b2)\n",
        "print(output)"
      ],
      "metadata": {
        "colab": {
          "base_uri": "https://localhost:8080/"
        },
        "id": "yqg846qeM-K7",
        "outputId": "865b2c81-f001-4e8e-db0d-f24aeb5a04c4"
      },
      "execution_count": null,
      "outputs": [
        {
          "output_type": "stream",
          "name": "stdout",
          "text": [
            "tensor([[0.3171]])\n"
          ]
        }
      ]
    },
    {
      "cell_type": "markdown",
      "source": [
        "you can always convert from numpy arrays to torch tensors easily with pyTorch "
      ],
      "metadata": {
        "id": "OWYmkVrBP4vQ"
      }
    },
    {
      "cell_type": "code",
      "source": [
        "import numpy as np"
      ],
      "metadata": {
        "id": "6LZ5kqfIOrfH"
      },
      "execution_count": null,
      "outputs": []
    },
    {
      "cell_type": "code",
      "source": [
        "a = np.random.rand(4, 3)\n",
        "a"
      ],
      "metadata": {
        "colab": {
          "base_uri": "https://localhost:8080/"
        },
        "id": "HCw6V73eQ-wg",
        "outputId": "a0b8666b-11dd-43c8-b2c9-9d0cf62a8da1"
      },
      "execution_count": null,
      "outputs": [
        {
          "output_type": "execute_result",
          "data": {
            "text/plain": [
              "array([[0.26463339, 0.01810223, 0.24321379],\n",
              "       [0.3652548 , 0.88933555, 0.14566805],\n",
              "       [0.73105742, 0.35093191, 0.7905384 ],\n",
              "       [0.07102019, 0.20972768, 0.5677168 ]])"
            ]
          },
          "metadata": {},
          "execution_count": 25
        }
      ]
    },
    {
      "cell_type": "code",
      "source": [
        "b = torch.from_numpy(a)\n",
        "b"
      ],
      "metadata": {
        "colab": {
          "base_uri": "https://localhost:8080/"
        },
        "id": "ty09rpAHRO_3",
        "outputId": "c88120a5-3988-4bdc-d4da-d5a9283de5c3"
      },
      "execution_count": null,
      "outputs": [
        {
          "output_type": "execute_result",
          "data": {
            "text/plain": [
              "tensor([[0.2646, 0.0181, 0.2432],\n",
              "        [0.3653, 0.8893, 0.1457],\n",
              "        [0.7311, 0.3509, 0.7905],\n",
              "        [0.0710, 0.2097, 0.5677]], dtype=torch.float64)"
            ]
          },
          "metadata": {},
          "execution_count": 26
        }
      ]
    },
    {
      "cell_type": "code",
      "source": [
        "b.numpy()"
      ],
      "metadata": {
        "colab": {
          "base_uri": "https://localhost:8080/"
        },
        "id": "Te9MNX24ReOj",
        "outputId": "83594d4f-ffc4-4824-c976-1f15dce39522"
      },
      "execution_count": null,
      "outputs": [
        {
          "output_type": "execute_result",
          "data": {
            "text/plain": [
              "array([[0.26463339, 0.01810223, 0.24321379],\n",
              "       [0.3652548 , 0.88933555, 0.14566805],\n",
              "       [0.73105742, 0.35093191, 0.7905384 ],\n",
              "       [0.07102019, 0.20972768, 0.5677168 ]])"
            ]
          },
          "metadata": {},
          "execution_count": 28
        }
      ]
    },
    {
      "cell_type": "markdown",
      "source": [
        "the memory between b and a is sheared so performing an inplace action on any will affect the other"
      ],
      "metadata": {
        "id": "PW5qT8FYRtb7"
      }
    },
    {
      "cell_type": "code",
      "source": [
        "b.mul_(2)"
      ],
      "metadata": {
        "colab": {
          "base_uri": "https://localhost:8080/"
        },
        "id": "dm3GXgVLRrhf",
        "outputId": "0855502f-d560-4002-fc6f-05dbca584c09"
      },
      "execution_count": null,
      "outputs": [
        {
          "output_type": "execute_result",
          "data": {
            "text/plain": [
              "tensor([[0.5293, 0.0362, 0.4864],\n",
              "        [0.7305, 1.7787, 0.2913],\n",
              "        [1.4621, 0.7019, 1.5811],\n",
              "        [0.1420, 0.4195, 1.1354]], dtype=torch.float64)"
            ]
          },
          "metadata": {},
          "execution_count": 29
        }
      ]
    },
    {
      "cell_type": "code",
      "source": [
        "a"
      ],
      "metadata": {
        "colab": {
          "base_uri": "https://localhost:8080/"
        },
        "id": "VIAdmiRMSVK2",
        "outputId": "31545e75-0ac6-4185-f7b2-f791f26bdfa1"
      },
      "execution_count": null,
      "outputs": [
        {
          "output_type": "execute_result",
          "data": {
            "text/plain": [
              "array([[0.52926677, 0.03620447, 0.48642759],\n",
              "       [0.73050961, 1.77867109, 0.29133609],\n",
              "       [1.46211485, 0.70186381, 1.5810768 ],\n",
              "       [0.14204038, 0.41945535, 1.13543359]])"
            ]
          },
          "metadata": {},
          "execution_count": 30
        }
      ]
    },
    {
      "cell_type": "code",
      "source": [],
      "metadata": {
        "id": "xbijlquJSWJs"
      },
      "execution_count": null,
      "outputs": []
    }
  ]
}